{
 "cells": [
  {
   "cell_type": "code",
   "execution_count": 2,
   "id": "e2b8e03b-2436-477a-a28c-07d6463ab21e",
   "metadata": {},
   "outputs": [
    {
     "name": "stdout",
     "output_type": "stream",
     "text": [
      "Hello, World!\n"
     ]
    }
   ],
   "source": [
    "print(\"Hello, World!\")"
   ]
  },
  {
   "cell_type": "code",
   "execution_count": 1,
   "id": "55b6dbf3-9507-40a1-adfc-eae62aca26d0",
   "metadata": {},
   "outputs": [
    {
     "name": "stdout",
     "output_type": "stream",
     "text": [
      "{'tool': {'poetry': {'name': 'myproject', 'version': '0.1.0', 'description': '', 'authors': ['Your Name <you@example.com>'], 'readme': 'README.md', 'dependencies': {'python': '>=3.12,<3.13', 'numpy': '^1.26.0', 'jupyterlab': '^4.0.6', 'tomli': '^2.0.1', 'notebook': '^7.0.4', 'pandas': '^2.1.1'}}}, 'build-system': {'requires': ['poetry-core'], 'build-backend': 'poetry.core.masonry.api'}}\n"
     ]
    }
   ],
   "source": [
    "import tomli\n",
    "\n",
    "file_toml = \"pyproject.toml\"\n",
    "\n",
    "with open(file_toml, \"rb\") as toml_file:\n",
    "    toml_data = tomli.load(toml_file)\n",
    "\n",
    "print(toml_data)"
   ]
  },
  {
   "cell_type": "code",
   "execution_count": null,
   "id": "0f38bc02-bdf6-4b58-a95f-1fcdf4123e08",
   "metadata": {},
   "outputs": [],
   "source": []
  }
 ],
 "metadata": {
  "kernelspec": {
   "display_name": "Python 3 (ipykernel)",
   "language": "python",
   "name": "python3"
  },
  "language_info": {
   "codemirror_mode": {
    "name": "ipython",
    "version": 3
   },
   "file_extension": ".py",
   "mimetype": "text/x-python",
   "name": "python",
   "nbconvert_exporter": "python",
   "pygments_lexer": "ipython3",
   "version": "3.12.0"
  }
 },
 "nbformat": 4,
 "nbformat_minor": 5
}
